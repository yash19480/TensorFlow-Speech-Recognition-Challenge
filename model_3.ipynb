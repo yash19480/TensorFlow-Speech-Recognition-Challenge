{
 "cells": [
  {
   "cell_type": "code",
   "execution_count": 48,
   "metadata": {},
   "outputs": [],
   "source": [
    "import tensorflow as tf\n",
    "from tensorflow.keras import datasets, layers, models\n",
    "import numpy as np\n",
    "import pandas as pd\n",
    "import scipy as sp\n",
    "import os\n",
    "import librosa\n",
    "import pandas as pd\n",
    "import librosa.display\n",
    "import matplotlib.pyplot as plt\n",
    "import cv2\n",
    "from sklearn import model_selection\n",
    "from sklearn.preprocessing import LabelEncoder\n",
    "from keras.models import model_from_json\n",
    "from keras.models import load_model\n",
    "from PIL import Image\n",
    "import csv"
   ]
  },
  {
   "cell_type": "code",
   "execution_count": 49,
   "metadata": {},
   "outputs": [],
   "source": [
    "labels = [\"yes\", \"no\", \"up\", \"down\", \"left\", \"right\", \"on\", \"off\", \"stop\", \"go\", \"silence\", \"unknown\"]"
   ]
  },
  {
   "cell_type": "code",
   "execution_count": 47,
   "metadata": {},
   "outputs": [
    {
     "ename": "KeyboardInterrupt",
     "evalue": "",
     "output_type": "error",
     "traceback": [
      "\u001b[1;31m---------------------------------------------------------------------------\u001b[0m",
      "\u001b[1;31mKeyboardInterrupt\u001b[0m                         Traceback (most recent call last)",
      "\u001b[1;32m<ipython-input-47-f2c247e902ad>\u001b[0m in \u001b[0;36m<module>\u001b[1;34m\u001b[0m\n\u001b[0;32m      3\u001b[0m     \u001b[0mlabel_data\u001b[0m \u001b[1;33m=\u001b[0m \u001b[0mnp\u001b[0m\u001b[1;33m.\u001b[0m\u001b[0mload\u001b[0m\u001b[1;33m(\u001b[0m\u001b[0mlabel\u001b[0m \u001b[1;33m+\u001b[0m \u001b[1;34m\".npy\"\u001b[0m\u001b[1;33m)\u001b[0m\u001b[1;33m\u001b[0m\u001b[1;33m\u001b[0m\u001b[0m\n\u001b[0;32m      4\u001b[0m     \u001b[1;32mfor\u001b[0m \u001b[0marr\u001b[0m \u001b[1;32min\u001b[0m \u001b[0mlabel_data\u001b[0m\u001b[1;33m:\u001b[0m\u001b[1;33m\u001b[0m\u001b[1;33m\u001b[0m\u001b[0m\n\u001b[1;32m----> 5\u001b[1;33m         \u001b[0mD\u001b[0m \u001b[1;33m=\u001b[0m \u001b[0mnp\u001b[0m\u001b[1;33m.\u001b[0m\u001b[0mabs\u001b[0m\u001b[1;33m(\u001b[0m\u001b[0mlibrosa\u001b[0m\u001b[1;33m.\u001b[0m\u001b[0mstft\u001b[0m\u001b[1;33m(\u001b[0m\u001b[0marr\u001b[0m\u001b[1;33m)\u001b[0m\u001b[1;33m)\u001b[0m\u001b[1;33m**\u001b[0m\u001b[1;36m2\u001b[0m\u001b[1;33m\u001b[0m\u001b[1;33m\u001b[0m\u001b[0m\n\u001b[0m\u001b[0;32m      6\u001b[0m         \u001b[0mS\u001b[0m \u001b[1;33m=\u001b[0m \u001b[0mlibrosa\u001b[0m\u001b[1;33m.\u001b[0m\u001b[0mfeature\u001b[0m\u001b[1;33m.\u001b[0m\u001b[0mmelspectrogram\u001b[0m\u001b[1;33m(\u001b[0m\u001b[0mS\u001b[0m\u001b[1;33m=\u001b[0m\u001b[0mD\u001b[0m\u001b[1;33m,\u001b[0m \u001b[0msr\u001b[0m\u001b[1;33m=\u001b[0m\u001b[1;36m16000\u001b[0m\u001b[1;33m,\u001b[0m \u001b[0mn_mels\u001b[0m\u001b[1;33m=\u001b[0m\u001b[1;36m128\u001b[0m\u001b[1;33m,\u001b[0m \u001b[0mfmax\u001b[0m\u001b[1;33m=\u001b[0m\u001b[1;36m8000\u001b[0m\u001b[1;33m)\u001b[0m\u001b[1;33m\u001b[0m\u001b[1;33m\u001b[0m\u001b[0m\n\u001b[0;32m      7\u001b[0m         \u001b[0mK\u001b[0m \u001b[1;33m=\u001b[0m \u001b[0mlibrosa\u001b[0m\u001b[1;33m.\u001b[0m\u001b[0mpower_to_db\u001b[0m\u001b[1;33m(\u001b[0m\u001b[0mS\u001b[0m\u001b[1;33m,\u001b[0m\u001b[0mref\u001b[0m\u001b[1;33m=\u001b[0m\u001b[0mnp\u001b[0m\u001b[1;33m.\u001b[0m\u001b[0mmax\u001b[0m\u001b[1;33m)\u001b[0m\u001b[1;33m\u001b[0m\u001b[1;33m\u001b[0m\u001b[0m\n",
      "\u001b[1;31mKeyboardInterrupt\u001b[0m: "
     ]
    }
   ],
   "source": [
    "data = []\n",
    "for label in labels : \n",
    "    label_data = np.load(label + \".npy\")\n",
    "    for arr in label_data:\n",
    "        D = np.abs(librosa.stft(arr))**2\n",
    "        S = librosa.feature.melspectrogram(S=D, sr=16000, n_mels=128, fmax=8000)\n",
    "        K = librosa.power_to_db(S,ref=np.max)\n",
    "        temp = [[label, K]]\n",
    "        data += temp\n",
    "data = pd.DataFrame(data, columns=[\"Label\", \"Spectrogram\"])"
   ]
  },
  {
   "cell_type": "code",
   "execution_count": 8,
   "metadata": {},
   "outputs": [],
   "source": [
    "os.mkdir(\"training_set\")\n",
    "dir_path = \"training_set\"\n",
    "for i in labels:\n",
    "    os.mkdir(os.path.join(dir_path, i))\n",
    "for i in range(data.shape[0]):\n",
    "    label = data.iloc[i].Label\n",
    "    spectrogram = data.iloc[i].Spectrogram\n",
    "    plt.imsave(os.path.join(dir_path, label, str(i) + \".png\"), spectrogram)\n",
    "    "
   ]
  },
  {
   "cell_type": "code",
   "execution_count": 50,
   "metadata": {},
   "outputs": [],
   "source": [
    "resimages = [] \n",
    "reslabels = []\n",
    "dir_path = \"training_set\"\n",
    "k=0\n",
    "\n",
    "for label in os.listdir(dir_path):\n",
    "    for file in os.listdir(os.path.join(dir_path, label)):\n",
    "        img = cv2.imread(os.path.join(dir_path, label, file))\n",
    "#         print(img.shape)\n",
    "        resimages.append(img)\n",
    "        reslabels.append(label)\n",
    "        k+=1\n",
    "\n",
    "np.save(\"reslabels\", reslabels)\n",
    "np.save(\"resimages\", resimages)"
   ]
  },
  {
   "cell_type": "code",
   "execution_count": 69,
   "metadata": {},
   "outputs": [
    {
     "name": "stdout",
     "output_type": "stream",
     "text": [
      "['down' 'down' 'down' ... 'yes' 'yes' 'yes']\n",
      "{0: array(['down'], dtype='<U7'), 1: array(['go'], dtype='<U7'), 2: array(['left'], dtype='<U7'), 3: array(['no'], dtype='<U7'), 4: array(['off'], dtype='<U7'), 5: array(['on'], dtype='<U7'), 6: array(['right'], dtype='<U7'), 7: array(['silence'], dtype='<U7'), 8: array(['stop'], dtype='<U7'), 9: array(['unknown'], dtype='<U7'), 10: array(['up'], dtype='<U7'), 11: array(['yes'], dtype='<U7')}\n"
     ]
    }
   ],
   "source": [
    "resimages = np.load(\"resimages.npy\")\n",
    "reslabels = np.load(\"reslabels.npy\")\n",
    "le = LabelEncoder()\n",
    "reslabels = le.fit_transform(reslabels)\n",
    "resimages = np.array(resimages)\n",
    "reslabels = np.asarray(reslabels)\n",
    "print(le.inverse_transform(reslabels))\n",
    "dict = {}\n",
    "for i in np.unique(reslabels):\n",
    "    dict[i] = le.inverse_transform([i])\n",
    "    \n",
    "print(dict)"
   ]
  },
  {
   "cell_type": "code",
   "execution_count": 52,
   "metadata": {},
   "outputs": [],
   "source": [
    "xtr, xte, ytr, yte = model_selection.train_test_split(resimages, reslabels, test_size=0.2)\n",
    "def create_model() :\n",
    "    model = models.Sequential()\n",
    "    model.add(layers.Conv2D(128 , (3,3), activation='softmax', input_shape=(128, 32, 3)))\n",
    "    model.add(layers.MaxPooling2D((2, 2)))\n",
    "    model.add(layers.Conv2D(128, (3,3), activation='relu'))\n",
    "    model.add(layers.MaxPooling2D((2, 2)))\n",
    "    model.add(layers.Conv2D(128 , (3,3), activation='softmax', input_shape=(128, 32, 3)))\n",
    "    model.add(layers.Flatten())\n",
    "    model.add(layers.Dense(128, activation='relu'))\n",
    "    model.add(layers.Dense(12))\n",
    "    \n",
    "    return model"
   ]
  },
  {
   "cell_type": "code",
   "execution_count": 53,
   "metadata": {},
   "outputs": [
    {
     "name": "stdout",
     "output_type": "stream",
     "text": [
      "(28176,)\n",
      "(28176, 128, 32, 3)\n",
      "Epoch 1/10\n",
      "282/282 [==============================] - 351s 1s/step - loss: 2.0420 - accuracy: 0.2939\n",
      "Epoch 2/10\n",
      "282/282 [==============================] - 328s 1s/step - loss: 1.0819 - accuracy: 0.6513\n",
      "Epoch 3/10\n",
      "282/282 [==============================] - 321s 1s/step - loss: 0.8855 - accuracy: 0.7089\n",
      "Epoch 4/10\n",
      "282/282 [==============================] - 320s 1s/step - loss: 0.7670 - accuracy: 0.7488\n",
      "Epoch 5/10\n",
      "282/282 [==============================] - 305s 1s/step - loss: 0.7010 - accuracy: 0.7706\n",
      "Epoch 6/10\n",
      "282/282 [==============================] - 300s 1s/step - loss: 0.6162 - accuracy: 0.7966\n",
      "Epoch 7/10\n",
      "282/282 [==============================] - 301s 1s/step - loss: 0.5751 - accuracy: 0.8134\n",
      "Epoch 8/10\n",
      "282/282 [==============================] - 300s 1s/step - loss: 0.5413 - accuracy: 0.8218\n",
      "Epoch 9/10\n",
      "282/282 [==============================] - 1129s 4s/step - loss: 0.4961 - accuracy: 0.8372\n",
      "Epoch 10/10\n",
      "282/282 [==============================] - 338s 1s/step - loss: 0.4512 - accuracy: 0.8500\n"
     ]
    }
   ],
   "source": [
    "print(reslabels.shape)\n",
    "print(resimages.shape)\n",
    "model = create_model()\n",
    "model.compile(optimizer='adam',loss=tf.keras.losses.SparseCategoricalCrossentropy(from_logits=True),metrics=['accuracy'])\n",
    "\n",
    "history = model.fit(resimages, reslabels, epochs=10,  batch_size=100 )"
   ]
  }
 ],
 "metadata": {
  "kernelspec": {
   "display_name": "Python 3",
   "language": "python",
   "name": "python3"
  },
  "language_info": {
   "codemirror_mode": {
    "name": "ipython",
    "version": 3
   },
   "file_extension": ".py",
   "mimetype": "text/x-python",
   "name": "python",
   "nbconvert_exporter": "python",
   "pygments_lexer": "ipython3",
   "version": "3.9.4"
  }
 },
 "nbformat": 4,
 "nbformat_minor": 4
}
